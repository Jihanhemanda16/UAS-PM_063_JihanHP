{
  "nbformat": 4,
  "nbformat_minor": 0,
  "metadata": {
    "colab": {
      "provenance": []
    },
    "kernelspec": {
      "name": "python3",
      "display_name": "Python 3"
    },
    "language_info": {
      "name": "python"
    }
  },
  "cells": [
    {
      "cell_type": "code",
      "execution_count": 5,
      "metadata": {
        "colab": {
          "base_uri": "https://localhost:8080/"
        },
        "id": "PZdVkM2kqgkG",
        "outputId": "75eef654-d0b0-4853-ece9-4b7460299f5f"
      },
      "outputs": [
        {
          "output_type": "stream",
          "name": "stderr",
          "text": [
            "/usr/local/lib/python3.10/dist-packages/sklearn/cluster/_kmeans.py:870: FutureWarning: The default value of `n_init` will change from 10 to 'auto' in 1.4. Set the value of `n_init` explicitly to suppress the warning\n",
            "  warnings.warn(\n"
          ]
        },
        {
          "output_type": "stream",
          "name": "stdout",
          "text": [
            "Silhouette Score: 0.74\n"
          ]
        }
      ],
      "source": [
        "import pandas as pd\n",
        "from sklearn.cluster import KMeans\n",
        "from sklearn.metrics import silhouette_score\n",
        "from sklearn.preprocessing import StandardScaler\n",
        "\n",
        "# Import Dataset\n",
        "data = pd.read_csv('Sales_Transactions_Dataset_Weekly.csv')\n",
        "\n",
        "# Pemrosesan Data\n",
        "# Hanya menggunakan kolom 'W0' hingga 'W51' untuk clustering\n",
        "weekly_sales_data = data.filter(regex='^W[0-9]+', axis=1)\n",
        "\n",
        "# Normalisasi data untuk meningkatkan performa K-Means\n",
        "scaler = StandardScaler()\n",
        "weekly_sales_normalized = scaler.fit_transform(weekly_sales_data)\n",
        "\n",
        "# Pembuatan Model K-Means\n",
        "# Menentukan jumlah cluster.\n",
        "num_clusters = 2\n",
        "kmeans = KMeans(n_clusters=num_clusters, random_state=42)\n",
        "kmeans.fit(weekly_sales_normalized)\n",
        "\n",
        "# Evaluasi Model\n",
        "# Menggunakan Silhouette Score untuk mengevaluasi kualitas clustering\n",
        "score = silhouette_score(weekly_sales_normalized, kmeans.labels_, metric='euclidean')\n",
        "\n",
        "print(f'Silhouette Score: {score:.2f}')"
      ]
    },
    {
      "cell_type": "markdown",
      "source": [
        "***Penjelasan Lengkap Code***\n",
        "\n",
        "Impor Library yang Diperlukan:\n",
        "\n",
        "pandas digunakan untuk memuat dan memanipulasi dataset.\n",
        "KMeans dari sklearn.cluster digunakan untuk menerapkan algoritma K-Means untuk clustering.\n",
        "silhouette_score dari sklearn.metrics digunakan untuk mengevaluasi kualitas clustering yang dihasilkan oleh model K-Means.\n",
        "StandardScaler dari sklearn.preprocessing digunakan untuk menormalisasi data sebelum proses clustering. Normalisasi ini penting untuk memastikan bahwa setiap fitur memiliki bobot yang sama dalam proses clustering.\n",
        "Impor Dataset:\n",
        "\n",
        "Dataset Sales_Transactions_Dataset_Weekly.csv diimpor ke dalam pandas DataFrame. Dataset ini berisi data penjualan produk setiap minggu.\n",
        "Pemrosesan Data:\n",
        "\n",
        "Dari DataFrame yang diimpor, hanya kolom yang berisi data penjualan mingguan (W0 hingga W51) yang digunakan untuk proses clustering. Langkah ini memfokuskan analisis pada pola penjualan mingguan produk.\n",
        "Normalisasi Data:\n",
        "\n",
        "Data penjualan mingguan dinormalisasi menggunakan StandardScaler. Ini mengubah data sehingga setiap fitur memiliki rata-rata 0 dan standar deviasi 1. Normalisasi penting karena memastikan bahwa semua fitur diukur pada skala yang sama, sehingga menghindari bias yang disebabkan oleh perbedaan skala antar fitur.\n",
        "Pembuatan Model K-Means:\n",
        "\n",
        "Model K-Means dibuat dengan jumlah cluster yang ditentukan (num_clusters=2). Algoritma ini kemudian diterapkan pada data penjualan mingguan yang telah dinormalisasi. K-Means mencari untuk membagi data ke dalam num_clusters cluster dengan meminimalkan variasi dalam cluster dan memaksimalkan variasi antar cluster.\n",
        "Evaluasi Model:\n",
        "\n",
        "Kualitas clustering dievaluasi menggunakan silhouette_score, yang mengukur seberapa baik setiap titik data cocok dengan cluster-nya sendiri dibandingkan dengan cluster lain. Skor Silhouette berkisar dari -1 hingga 1, di mana nilai yang lebih tinggi menunjukkan pemisahan cluster yang lebih baik. Skor ini memberikan pandangan tentang seberapa baik model K-Means mengelompokkan data penjualan mingguan.\n"
      ],
      "metadata": {
        "id": "ONlfC8hUujyx"
      }
    }
  ]
}